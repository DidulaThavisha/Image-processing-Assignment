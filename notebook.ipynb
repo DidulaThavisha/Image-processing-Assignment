{
 "cells": [
  {
   "cell_type": "code",
   "execution_count": 11,
   "metadata": {},
   "outputs": [
    {
     "name": "stdout",
     "output_type": "stream",
     "text": [
      "Requirement already satisfied: cv in c:\\users\\asus\\appdata\\local\\packages\\pythonsoftwarefoundation.python.3.11_qbz5n2kfra8p0\\localcache\\local-packages\\python311\\site-packages (1.0.0)\n",
      "Note: you may need to restart the kernel to use updated packages.\n",
      "Requirement already satisfied: opencv-python in c:\\users\\asus\\appdata\\local\\packages\\pythonsoftwarefoundation.python.3.11_qbz5n2kfra8p0\\localcache\\local-packages\\python311\\site-packages (4.8.0.76)Note: you may need to restart the kernel to use updated packages.\n",
      "\n",
      "Requirement already satisfied: numpy>=1.21.2 in c:\\users\\asus\\appdata\\local\\packages\\pythonsoftwarefoundation.python.3.11_qbz5n2kfra8p0\\localcache\\local-packages\\python311\\site-packages (from opencv-python) (1.25.2)\n"
     ]
    }
   ],
   "source": [
    "%pip install cv\n",
    "%pip install opencv-python\n"
   ]
  },
  {
   "cell_type": "code",
   "execution_count": 9,
   "metadata": {},
   "outputs": [
    {
     "name": "stdout",
     "output_type": "stream",
     "text": [
      "Collecting matplotlib\n",
      "  Obtaining dependency information for matplotlib from https://files.pythonhosted.org/packages/4d/9c/65830d4a56c47f5283eaa244dc1228c5da9c844a9f999ebcc2e69bf6cc65/matplotlib-3.7.2-cp311-cp311-win_amd64.whl.metadata\n",
      "  Downloading matplotlib-3.7.2-cp311-cp311-win_amd64.whl.metadata (5.8 kB)\n",
      "Collecting contourpy>=1.0.1 (from matplotlib)\n",
      "  Obtaining dependency information for contourpy>=1.0.1 from https://files.pythonhosted.org/packages/16/09/989b982322439faa4bafffcd669e6f942b38fee897c2664c987bcd091dec/contourpy-1.1.0-cp311-cp311-win_amd64.whl.metadata\n",
      "  Downloading contourpy-1.1.0-cp311-cp311-win_amd64.whl.metadata (5.7 kB)\n",
      "Collecting cycler>=0.10 (from matplotlib)\n",
      "  Using cached cycler-0.11.0-py3-none-any.whl (6.4 kB)\n",
      "Collecting fonttools>=4.22.0 (from matplotlib)\n",
      "  Obtaining dependency information for fonttools>=4.22.0 from https://files.pythonhosted.org/packages/95/b6/9a5133deb5838c4dbe3ea27e8dba123622aa5112d43a079e9587636b4faf/fonttools-4.42.1-cp311-cp311-win_amd64.whl.metadata\n",
      "  Downloading fonttools-4.42.1-cp311-cp311-win_amd64.whl.metadata (154 kB)\n",
      "     ---------------------------------------- 0.0/154.1 kB ? eta -:--:--\n",
      "     -- ------------------------------------- 10.2/154.1 kB ? eta -:--:--\n",
      "     -- ------------------------------------- 10.2/154.1 kB ? eta -:--:--\n",
      "     --------- --------------------------- 41.0/154.1 kB 393.8 kB/s eta 0:00:01\n",
      "     -------------------------- --------- 112.6/154.1 kB 819.2 kB/s eta 0:00:01\n",
      "     ------------------------------------ 154.1/154.1 kB 836.2 kB/s eta 0:00:00\n",
      "Collecting kiwisolver>=1.0.1 (from matplotlib)\n",
      "  Obtaining dependency information for kiwisolver>=1.0.1 from https://files.pythonhosted.org/packages/1e/37/d3c2d4ba2719059a0f12730947bbe1ad5ee8bff89e8c35319dcb2c9ddb4c/kiwisolver-1.4.5-cp311-cp311-win_amd64.whl.metadata\n",
      "  Downloading kiwisolver-1.4.5-cp311-cp311-win_amd64.whl.metadata (6.5 kB)\n",
      "Requirement already satisfied: numpy>=1.20 in c:\\users\\asus\\appdata\\local\\packages\\pythonsoftwarefoundation.python.3.11_qbz5n2kfra8p0\\localcache\\local-packages\\python311\\site-packages (from matplotlib) (1.25.2)\n",
      "Requirement already satisfied: packaging>=20.0 in c:\\users\\asus\\appdata\\local\\packages\\pythonsoftwarefoundation.python.3.11_qbz5n2kfra8p0\\localcache\\local-packages\\python311\\site-packages (from matplotlib) (23.1)\n",
      "Collecting pillow>=6.2.0 (from matplotlib)\n",
      "  Obtaining dependency information for pillow>=6.2.0 from https://files.pythonhosted.org/packages/66/d4/054e491f0880bf0119ee79cdc03264e01d5732e06c454da8c69b83a7c8f2/Pillow-10.0.0-cp311-cp311-win_amd64.whl.metadata\n",
      "  Downloading Pillow-10.0.0-cp311-cp311-win_amd64.whl.metadata (9.6 kB)\n",
      "Collecting pyparsing<3.1,>=2.3.1 (from matplotlib)\n",
      "  Using cached pyparsing-3.0.9-py3-none-any.whl (98 kB)\n",
      "Requirement already satisfied: python-dateutil>=2.7 in c:\\users\\asus\\appdata\\local\\packages\\pythonsoftwarefoundation.python.3.11_qbz5n2kfra8p0\\localcache\\local-packages\\python311\\site-packages (from matplotlib) (2.8.2)\n",
      "Requirement already satisfied: six>=1.5 in c:\\users\\asus\\appdata\\local\\packages\\pythonsoftwarefoundation.python.3.11_qbz5n2kfra8p0\\localcache\\local-packages\\python311\\site-packages (from python-dateutil>=2.7->matplotlib) (1.16.0)\n",
      "Downloading matplotlib-3.7.2-cp311-cp311-win_amd64.whl (7.5 MB)\n",
      "   ---------------------------------------- 0.0/7.5 MB ? eta -:--:--\n",
      "    --------------------------------------- 0.2/7.5 MB 3.1 MB/s eta 0:00:03\n",
      "   - -------------------------------------- 0.4/7.5 MB 5.7 MB/s eta 0:00:02\n",
      "   -- ------------------------------------- 0.5/7.5 MB 3.7 MB/s eta 0:00:02\n",
      "   --- ------------------------------------ 0.7/7.5 MB 4.3 MB/s eta 0:00:02\n",
      "   --- ------------------------------------ 0.7/7.5 MB 4.3 MB/s eta 0:00:02\n",
      "   ------ --------------------------------- 1.2/7.5 MB 4.8 MB/s eta 0:00:02\n",
      "   ------- -------------------------------- 1.4/7.5 MB 4.4 MB/s eta 0:00:02\n",
      "   --------- ------------------------------ 1.8/7.5 MB 4.9 MB/s eta 0:00:02\n",
      "   ------------ --------------------------- 2.3/7.5 MB 5.3 MB/s eta 0:00:01\n",
      "   -------------- ------------------------- 2.7/7.5 MB 5.7 MB/s eta 0:00:01\n",
      "   ---------------- ----------------------- 3.1/7.5 MB 6.0 MB/s eta 0:00:01\n",
      "   ------------------ --------------------- 3.4/7.5 MB 6.3 MB/s eta 0:00:01\n",
      "   ------------------ --------------------- 3.5/7.5 MB 5.9 MB/s eta 0:00:01\n",
      "   ------------------- -------------------- 3.6/7.5 MB 5.5 MB/s eta 0:00:01\n",
      "   -------------------- ------------------- 3.9/7.5 MB 5.6 MB/s eta 0:00:01\n",
      "   --------------------- ------------------ 4.1/7.5 MB 5.7 MB/s eta 0:00:01\n",
      "   ---------------------- ----------------- 4.3/7.5 MB 5.3 MB/s eta 0:00:01\n",
      "   ----------------------- ---------------- 4.5/7.5 MB 5.3 MB/s eta 0:00:01\n",
      "   ------------------------- -------------- 4.8/7.5 MB 5.4 MB/s eta 0:00:01\n",
      "   ------------------------- -------------- 4.8/7.5 MB 5.4 MB/s eta 0:00:01\n",
      "   -------------------------- ------------- 5.1/7.5 MB 5.2 MB/s eta 0:00:01\n",
      "   ---------------------------- ----------- 5.3/7.5 MB 5.2 MB/s eta 0:00:01\n",
      "   ---------------------------- ----------- 5.3/7.5 MB 5.2 MB/s eta 0:00:01\n",
      "   ------------------------------- -------- 5.9/7.5 MB 5.2 MB/s eta 0:00:01\n",
      "   -------------------------------- ------- 6.1/7.5 MB 5.2 MB/s eta 0:00:01\n",
      "   --------------------------------- ------ 6.3/7.5 MB 5.2 MB/s eta 0:00:01\n",
      "   ---------------------------------- ----- 6.5/7.5 MB 5.2 MB/s eta 0:00:01\n",
      "   ----------------------------------- ---- 6.7/7.5 MB 5.2 MB/s eta 0:00:01\n",
      "   ------------------------------------- -- 7.0/7.5 MB 5.2 MB/s eta 0:00:01\n",
      "   -------------------------------------- - 7.2/7.5 MB 5.2 MB/s eta 0:00:01\n",
      "   ---------------------------------------  7.4/7.5 MB 5.1 MB/s eta 0:00:01\n",
      "   ---------------------------------------  7.4/7.5 MB 5.1 MB/s eta 0:00:01\n",
      "   ---------------------------------------  7.5/7.5 MB 4.9 MB/s eta 0:00:01\n",
      "   ---------------------------------------- 7.5/7.5 MB 4.7 MB/s eta 0:00:00\n",
      "Downloading contourpy-1.1.0-cp311-cp311-win_amd64.whl (470 kB)\n",
      "   ---------------------------------------- 0.0/470.9 kB ? eta -:--:--\n",
      "   ------------- -------------------------- 153.6/470.9 kB 4.6 MB/s eta 0:00:01\n",
      "   -------------------------- ------------- 307.2/470.9 kB 3.2 MB/s eta 0:00:01\n",
      "   ---------------------------------------  460.8/470.9 kB 3.2 MB/s eta 0:00:01\n",
      "   ---------------------------------------- 470.9/470.9 kB 3.0 MB/s eta 0:00:00\n",
      "Downloading fonttools-4.42.1-cp311-cp311-win_amd64.whl (2.1 MB)\n",
      "   ---------------------------------------- 0.0/2.1 MB ? eta -:--:--\n",
      "   --- ------------------------------------ 0.2/2.1 MB 6.3 MB/s eta 0:00:01\n",
      "   ----- ---------------------------------- 0.3/2.1 MB 5.7 MB/s eta 0:00:01\n",
      "   ----- ---------------------------------- 0.3/2.1 MB 5.7 MB/s eta 0:00:01\n",
      "   ----- ---------------------------------- 0.3/2.1 MB 5.7 MB/s eta 0:00:01\n",
      "   ---------- ----------------------------- 0.6/2.1 MB 2.7 MB/s eta 0:00:01\n",
      "   ------------ --------------------------- 0.7/2.1 MB 2.6 MB/s eta 0:00:01\n",
      "   -------------- ------------------------- 0.8/2.1 MB 2.7 MB/s eta 0:00:01\n",
      "   -------------- ------------------------- 0.8/2.1 MB 2.7 MB/s eta 0:00:01\n",
      "   -------------- ------------------------- 0.8/2.1 MB 2.7 MB/s eta 0:00:01\n",
      "   ------------------ --------------------- 1.0/2.1 MB 2.2 MB/s eta 0:00:01\n",
      "   --------------------- ------------------ 1.1/2.1 MB 2.2 MB/s eta 0:00:01\n",
      "   ---------------------- ----------------- 1.2/2.1 MB 2.3 MB/s eta 0:00:01\n",
      "   ---------------------- ----------------- 1.2/2.1 MB 2.3 MB/s eta 0:00:01\n",
      "   ------------------------- -------------- 1.3/2.1 MB 2.1 MB/s eta 0:00:01\n",
      "   ----------------------------- ---------- 1.5/2.1 MB 2.2 MB/s eta 0:00:01\n",
      "   ------------------------------- -------- 1.7/2.1 MB 2.3 MB/s eta 0:00:01\n",
      "   ----------------------------------- ---- 1.9/2.1 MB 2.4 MB/s eta 0:00:01\n",
      "   -------------------------------------- - 2.0/2.1 MB 2.5 MB/s eta 0:00:01\n",
      "   ---------------------------------------- 2.1/2.1 MB 2.4 MB/s eta 0:00:00\n",
      "Downloading kiwisolver-1.4.5-cp311-cp311-win_amd64.whl (56 kB)\n",
      "   ---------------------------------------- 0.0/56.1 kB ? eta -:--:--\n",
      "   ---------------------------------------- 56.1/56.1 kB 2.9 MB/s eta 0:00:00\n",
      "Downloading Pillow-10.0.0-cp311-cp311-win_amd64.whl (2.5 MB)\n",
      "   ---------------------------------------- 0.0/2.5 MB ? eta -:--:--\n",
      "   ---- ----------------------------------- 0.3/2.5 MB 5.7 MB/s eta 0:00:01\n",
      "   ------ --------------------------------- 0.4/2.5 MB 4.4 MB/s eta 0:00:01\n",
      "   ------- -------------------------------- 0.5/2.5 MB 4.5 MB/s eta 0:00:01\n",
      "   ------- -------------------------------- 0.5/2.5 MB 4.5 MB/s eta 0:00:01\n",
      "   ------- -------------------------------- 0.5/2.5 MB 4.5 MB/s eta 0:00:01\n",
      "   ------------ --------------------------- 0.8/2.5 MB 2.9 MB/s eta 0:00:01\n",
      "   -------------- ------------------------- 0.9/2.5 MB 2.9 MB/s eta 0:00:01\n",
      "   -------------- ------------------------- 0.9/2.5 MB 2.9 MB/s eta 0:00:01\n",
      "   -------------- ------------------------- 0.9/2.5 MB 2.9 MB/s eta 0:00:01\n",
      "   -------------- ------------------------- 0.9/2.5 MB 2.9 MB/s eta 0:00:01\n",
      "   ------------------- -------------------- 1.2/2.5 MB 2.4 MB/s eta 0:00:01\n",
      "   -------------------- ------------------- 1.3/2.5 MB 2.3 MB/s eta 0:00:01\n",
      "   --------------------- ------------------ 1.4/2.5 MB 2.3 MB/s eta 0:00:01\n",
      "   ------------------------- -------------- 1.6/2.5 MB 2.5 MB/s eta 0:00:01\n",
      "   ---------------------------- ----------- 1.8/2.5 MB 2.6 MB/s eta 0:00:01\n",
      "   ------------------------------- -------- 2.0/2.5 MB 2.7 MB/s eta 0:00:01\n",
      "   ----------------------------------- ---- 2.2/2.5 MB 2.8 MB/s eta 0:00:01\n",
      "   ------------------------------------ --- 2.3/2.5 MB 2.8 MB/s eta 0:00:01\n",
      "   ---------------------------------------  2.5/2.5 MB 2.9 MB/s eta 0:00:01\n",
      "   ---------------------------------------- 2.5/2.5 MB 2.8 MB/s eta 0:00:00\n",
      "Installing collected packages: pyparsing, pillow, kiwisolver, fonttools, cycler, contourpy, matplotlib\n",
      "Successfully installed contourpy-1.1.0 cycler-0.11.0 fonttools-4.42.1 kiwisolver-1.4.5 matplotlib-3.7.2 pillow-10.0.0 pyparsing-3.0.9\n"
     ]
    }
   ],
   "source": [
    "%pip install matplotlib"
   ]
  },
  {
   "cell_type": "code",
   "execution_count": 14,
   "metadata": {},
   "outputs": [],
   "source": [
    "import cv as cv\n",
    "import matplotlib.pyplot as plt\n",
    "import numpy as np"
   ]
  },
  {
   "cell_type": "code",
   "execution_count": 19,
   "metadata": {},
   "outputs": [
    {
     "name": "stdout",
     "output_type": "stream",
     "text": [
      "101\n",
      "50\n",
      "105\n"
     ]
    },
    {
     "data": {
      "image/png": "[encoded data removed]",
      "text/plain": [
       "<Figure size 640x480 with 1 Axes>"
      ]
     },
     "metadata": {},
     "output_type": "display_data"
    }
   ],
   "source": [
    "transform = np.arange(255,-1, -1).astype('uint8' )\n",
    "\n",
    "c=np.array([(100,50),(150,200)])\n",
    "t1=np.linspace(0, c[0,1],c[0,0] + 1 - 0).astype('uint8')\n",
    "print(len(t1))\n",
    "t2=np.linspace(c[0,1]+1,c[1,1],c[1,0]-c[0,0]).astype('uint8')\n",
    "print(len(t2))\n",
    "t3=np.linspace(c[1,1]+1,255,255-c[1,0]).astype('uint8')\n",
    "print(len(t3))\n",
    "fig,ax=plt.subplots()\n",
    "ax.plot(transform)\n",
    "ax.set_xlabel(r'input, $f(\\mathbf{x})$')\n",
    "ax.set_ylabel(r'output, $\\mathrm{T}[f(\\mathbf{x})]$')\n",
    "ax.set_xlim(0,255)\n",
    "ax.set_ylim(0,255)\n",
    "ax.set_aspect('equal')\n",
    "plt.savefig('transform.png')\n",
    "plt.show()\n",
    "\n"
   ]
  },
  {
   "cell_type": "code",
   "execution_count": null,
   "metadata": {},
   "outputs": [],
   "source": [
    "img_original = cv2.imread()"
   ]
  }
 ],
 "metadata": {
  "kernelspec": {
   "display_name": "Python 3",
   "language": "python",
   "name": "python3"
  },
  "language_info": {
   "codemirror_mode": {
    "name": "ipython",
    "version": 3
   },
   "file_extension": ".py",
   "mimetype": "text/x-python",
   "name": "python",
   "nbconvert_exporter": "python",
   "pygments_lexer": "ipython3",
   "version": "3.11.5"
  },
  "orig_nbformat": 4
 },
 "nbformat": 4,
 "nbformat_minor": 2
}
